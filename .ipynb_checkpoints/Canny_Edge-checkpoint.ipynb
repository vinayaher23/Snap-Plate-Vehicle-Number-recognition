{
 "cells": [
  {
   "cell_type": "code",
   "execution_count": 1,
   "id": "41e71dea",
   "metadata": {},
   "outputs": [
    {
     "ename": "ValueError",
     "evalue": "not enough values to unpack (expected 3, got 2)",
     "output_type": "error",
     "traceback": [
      "\u001b[1;31m---------------------------------------------------------------------------\u001b[0m",
      "\u001b[1;31mValueError\u001b[0m                                Traceback (most recent call last)",
      "\u001b[1;32m<ipython-input-1-3e8b0a93c849>\u001b[0m in \u001b[0;36m<module>\u001b[1;34m\u001b[0m\n\u001b[0;32m     52\u001b[0m \u001b[1;33m\u001b[0m\u001b[0m\n\u001b[0;32m     53\u001b[0m \u001b[1;31m# Finding Contours in the image based on edges\u001b[0m\u001b[1;33m\u001b[0m\u001b[1;33m\u001b[0m\u001b[1;33m\u001b[0m\u001b[0m\n\u001b[1;32m---> 54\u001b[1;33m \u001b[0mnew\u001b[0m\u001b[1;33m,\u001b[0m\u001b[0mcontours\u001b[0m\u001b[1;33m,\u001b[0m \u001b[0mhierarchy\u001b[0m \u001b[1;33m=\u001b[0m \u001b[0mcv2\u001b[0m\u001b[1;33m.\u001b[0m\u001b[0mfindContours\u001b[0m\u001b[1;33m(\u001b[0m\u001b[0mdilated_image\u001b[0m\u001b[1;33m,\u001b[0m \u001b[0mcv2\u001b[0m\u001b[1;33m.\u001b[0m\u001b[0mRETR_TREE\u001b[0m\u001b[1;33m,\u001b[0m \u001b[0mcv2\u001b[0m\u001b[1;33m.\u001b[0m\u001b[0mCHAIN_APPROX_SIMPLE\u001b[0m\u001b[1;33m)\u001b[0m\u001b[1;33m\u001b[0m\u001b[1;33m\u001b[0m\u001b[0m\n\u001b[0m\u001b[0;32m     55\u001b[0m \u001b[1;31m# Sort the contours based on area ,so that the number plate will be in top 10 contours\u001b[0m\u001b[1;33m\u001b[0m\u001b[1;33m\u001b[0m\u001b[1;33m\u001b[0m\u001b[0m\n\u001b[0;32m     56\u001b[0m \u001b[0mcontours\u001b[0m\u001b[1;33m=\u001b[0m \u001b[0msorted\u001b[0m\u001b[1;33m(\u001b[0m\u001b[0mcontours\u001b[0m\u001b[1;33m,\u001b[0m \u001b[0mkey\u001b[0m \u001b[1;33m=\u001b[0m \u001b[0mcv2\u001b[0m\u001b[1;33m.\u001b[0m\u001b[0mcontourArea\u001b[0m\u001b[1;33m,\u001b[0m \u001b[0mreverse\u001b[0m \u001b[1;33m=\u001b[0m \u001b[1;32mTrue\u001b[0m\u001b[1;33m)\u001b[0m\u001b[1;33m[\u001b[0m\u001b[1;33m:\u001b[0m\u001b[1;36m10\u001b[0m\u001b[1;33m]\u001b[0m\u001b[1;33m\u001b[0m\u001b[1;33m\u001b[0m\u001b[0m\n",
      "\u001b[1;31mValueError\u001b[0m: not enough values to unpack (expected 3, got 2)"
     ]
    }
   ],
   "source": [
    "import cv2                  # Importthe Opencv Library\n",
    "import numpy as np          # Import NumPy, package for scientific computing with Python\n",
    "                                                    # Wait for a keystroke from the user before ending the program"
   ]
  },
  {
   "cell_type": "code",
   "execution_count": null,
   "id": "13786f83",
   "metadata": {},
   "outputs": [],
   "source": [
    "img = cv2.imread('./imgs/img6.jpg')                     # Read the Image\n",
    "cv2.namedWindow(\"Original Image\",cv2.WINDOW_NORMAL)     # Create a Named window to display image\n",
    "cv2.imshow(\"Original Image\",img)                        # Display the Image"
   ]
  },
  {
   "cell_type": "code",
   "execution_count": null,
   "id": "0b6d8185",
   "metadata": {},
   "outputs": [],
   "source": [
    "# RGB to Gray scale conversion\n",
    "img_gray = cv2.cvtColor(img,cv2.COLOR_RGB2GRAY)\n",
    "cv2.namedWindow(\"1 - Grayscale Conversion\",cv2.WINDOW_NORMAL)\n",
    "cv2.imshow(\"1 - Grayscale Conversion\",img_gray)"
   ]
  },
  {
   "cell_type": "code",
   "execution_count": null,
   "id": "36bc9315",
   "metadata": {},
   "outputs": [],
   "source": [
    "# Noise removal with iterative bilateral filter(removes noise while preserving edges)\n",
    "noise_removal = cv2.bilateralFilter(img_gray,9,75,75)\n",
    "cv2.namedWindow(\"2 - Noise Removal(Bilateral Filtering)\",cv2.WINDOW_NORMAL)\n",
    "cv2.imshow(\"2 - Noise Removal(Bilateral Filtering)\",noise_removal)\n",
    "\n",
    "# Histogram equalisation for better results\n",
    "equal_histogram = cv2.equalizeHist(noise_removal)\n",
    "cv2.namedWindow(\"3 - Histogram equalisation\",cv2.WINDOW_NORMAL)\n",
    "cv2.imshow(\"3 - Histogram equalisation\",equal_histogram)\n",
    "\n",
    "# Morphological opening with a rectangular structure element\n",
    "kernel = cv2.getStructuringElement(cv2.MORPH_RECT,(5,5))                                # create the kernel\n",
    "morph_image = cv2.morphologyEx(equal_histogram,cv2.MORPH_OPEN,kernel,iterations=15)     # Morphological opening using the kernal created\n",
    "cv2.namedWindow(\"4 - Morphological opening\",cv2.WINDOW_NORMAL)\n",
    "cv2.imshow(\"4 - Morphological opening\",morph_image)\n",
    "\n",
    "# Image subtraction(Subtracting the Morphed image from the histogram equalised Image)\n",
    "sub_morp_image = cv2.subtract(equal_histogram,morph_image)\n",
    "cv2.namedWindow(\"5 - Image Subtraction\", cv2.WINDOW_NORMAL)\n",
    "cv2.imshow(\"5 - Image Subtraction\", sub_morp_image)\n",
    "\n",
    "# Thresholding the image\n",
    "ret,thresh_image = cv2.threshold(sub_morp_image,0,255,cv2.THRESH_OTSU)\n",
    "cv2.namedWindow(\"6 - Thresholding\",cv2.WINDOW_NORMAL)\n",
    "cv2.imshow(\"6 - Thresholding\",thresh_image)\n",
    "\n",
    "# Applying Canny Edge detection\n",
    "canny_image = cv2.Canny(thresh_image,250,255)\n",
    "cv2.namedWindow(\"7 - Canny Edge Detection\",cv2.WINDOW_NORMAL)\n",
    "cv2.imshow(\"7 - Canny Edge Detection\",canny_image)\n",
    "\n",
    "canny_image = cv2.convertScaleAbs(canny_image)\n",
    "\n",
    "# Dilation - to strengthen the edges\n",
    "kernel = np.ones((3,3), np.uint8)                               # Create the kernel for dilation\n",
    "dilated_image = cv2.dilate(canny_image,kernel,iterations=1)     # Carry out Dilation\n",
    "cv2.namedWindow(\"8 - Dilation(closing)\", cv2.WINDOW_NORMAL)\n",
    "cv2.imshow(\"8 - Dilation(closing)\", dilated_image)\n",
    "\n",
    "# Finding Contours in the image based on edges\n",
    "new,contours, hierarchy = cv2.findContours(dilated_image, cv2.RETR_TREE, cv2.CHAIN_APPROX_SIMPLE)\n",
    "# Sort the contours based on area ,so that the number plate will be in top 10 contours\n",
    "contours= sorted(contours, key = cv2.contourArea, reverse = True)[:10]\n",
    "\n",
    "NumberPlateCnt = None\n",
    "\n",
    "# loop over the contours list\n",
    "for c in contours:\n",
    "     # approximate the contour\n",
    "     peri = cv2.arcLength(c, True)\n",
    "     approx = cv2.approxPolyDP(c, 0.06 * peri, True)  # Approximating with 6% error\n",
    "     # if our approximated contour has four points, then\n",
    "     # we can assume that we have found our NumberPlate\n",
    "     if len(approx) == 4:           # Select the contour with 4 corners\n",
    "          NumberPlateCnt = approx   #assign to NumberPlateCnt when approximate contour found\n",
    "          break                     # break the loop when Number Plate contour found/approximated\n",
    "\n",
    "# Drawing the selected contour on the original image\n",
    "final = cv2.drawContours(img, [NumberPlateCnt], -1, (0, 255, 0), 3)\n",
    "\n",
    "cv2.namedWindow(\"9 - Approximated Contour\",cv2.WINDOW_NORMAL)\n",
    "cv2.imshow(\"9 - Approximated Contour\",final)\n",
    "\n",
    "\n",
    "# SEPARATING OUT THE NUMBER PLATE FROM IMAGE:\n",
    "\n",
    "# Masking the part other than the number plate\n",
    "mask = np.zeros(img_gray.shape,np.uint8)                            # create an empty black image\n",
    "new_image = cv2.drawContours(mask,[NumberPlateCnt],0,255,-1,)       # Draw the contour of number plate on the black image - This is our mask\n",
    "new_image = cv2.bitwise_and(img,img,mask=mask)                      # Take bitwise AND with the original image so we can just get the Number Plate from the original image\n",
    "cv2.namedWindow(\"10 - Number Plate Separation\",cv2.WINDOW_NORMAL)\n",
    "cv2.imshow(\"10 - Number Plate Separation\",new_image)\n",
    "\n",
    "\n",
    "\n",
    "#HISTOGRAM EQUALIZATION FOR ENHANCING THE NUMBER PLATE FOR FURTHER PROCESSING:\n",
    "\n",
    "\n",
    "y,cr,cb = cv2.split(cv2.cvtColor(new_image,cv2.COLOR_RGB2YCrCb))        # Converting the image to YCrCb model and splitting the 3 channels\n",
    "y = cv2.equalizeHist(y)                                                 # Applying histogram equalisation\n",
    "final_image = cv2.cvtColor(cv2.merge([y,cr,cb]),cv2.COLOR_YCrCb2RGB)    # Merging the 3 channels\n",
    "cv2.namedWindow(\"11 - Enhanced Number Plate\",cv2.WINDOW_NORMAL)\n",
    "cv2.imshow(\"11 - Enhanced Number Plate\",final_image)\n",
    "\n",
    "\n",
    "cv2.waitKey()       "
   ]
  }
 ],
 "metadata": {
  "kernelspec": {
   "display_name": "Python 3",
   "language": "python",
   "name": "python3"
  },
  "language_info": {
   "codemirror_mode": {
    "name": "ipython",
    "version": 3
   },
   "file_extension": ".py",
   "mimetype": "text/x-python",
   "name": "python",
   "nbconvert_exporter": "python",
   "pygments_lexer": "ipython3",
   "version": "3.6.13"
  }
 },
 "nbformat": 4,
 "nbformat_minor": 5
}
